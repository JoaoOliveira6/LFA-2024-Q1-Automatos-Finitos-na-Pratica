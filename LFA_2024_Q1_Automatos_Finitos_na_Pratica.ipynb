{
  "nbformat": 4,
  "nbformat_minor": 0,
  "metadata": {
    "colab": {
      "provenance": [],
      "include_colab_link": true
    },
    "kernelspec": {
      "name": "python3",
      "display_name": "Python 3"
    },
    "language_info": {
      "name": "python"
    }
  },
  "cells": [
    {
      "cell_type": "markdown",
      "metadata": {
        "id": "view-in-github",
        "colab_type": "text"
      },
      "source": [
        "<a href=\"https://colab.research.google.com/github/JoaoOliveira6/LFA-2024-Q1-Automatos-Finitos-na-Pratica/blob/main/LFA_2024_Q1_Automatos_Finitos_na_Pratica.ipynb\" target=\"_parent\"><img src=\"https://colab.research.google.com/assets/colab-badge.svg\" alt=\"Open In Colab\"/></a>"
      ]
    },
    {
      "cell_type": "markdown",
      "source": [
        "# **Linguagens Formais e Autômatos [2024.Q1]**\n",
        "Prof. Alexandre Donizeti Alves"
      ],
      "metadata": {
        "id": "OotSBq1Q17Ip"
      }
    },
    {
      "cell_type": "markdown",
      "source": [
        "### **EQUIPE**\n",
        "\n",
        "**Integrante 01:**\n",
        "\n",
        "João Vitor Oliveira dos Santos - RA: 11201811164\n",
        "\n",
        "**Integrante 02:**\n",
        "\n",
        "Lucas Guerra Silvestre - RA: 11201721549\n",
        "\n"
      ],
      "metadata": {
        "id": "xohdBCqp8Q7U"
      }
    },
    {
      "cell_type": "markdown",
      "source": [
        "### **INTRODUÇÃO**\n",
        "\n",
        "\n",
        "**Introdução:**\n",
        "\n",
        "Em um mundo cada vez mais automatizado, a aplicação de conceitos de linguagens formais e autômatos se estende para diversas áreas, inclusive no funcionamento de eletrodomésticos. No contexto deste projeto, exploraremos o autômato de tomada de decisão de uma máquina de lavar, uma aplicação prática e tangível dos conceitos teóricos aprendidos em linguagens formais e autômatos.\n",
        "\n",
        "No automato da máquina de lavar neste projeto, cada estado representa uma etapa específica do processo de lavagem, e a transição entre essas etapas é determinada pelas entradas e pelas funções de transição, o que permite que a máquina de lavar execute as ações necessárias para limpar e secar as roupas de forma eficiente.\n",
        "<br>\n",
        "<br>\n",
        "\n",
        "**Estados:**\n",
        "\n",
        "- q0 (Início): Este estado marca o início do ciclo de lavagem. A partir deste estado, a máquina de lavar começa a receber as instruções para executar o processo de limpeza das roupas.\n",
        "- q1 (Molho): No estado de molho, as roupas ficam embebidas em água com detergente por um período determinado. Isso permite a dissolução de sujeira e manchas, preparando as roupas para uma lavagem mais eficaz.\n",
        "- q2 (Lavar): No estado de lavagem, as roupas são agitadas na água com sabão para remover a sujeira e as manchas dos tecidos. É uma etapa crucial para garantir uma limpeza completa das roupas.\n",
        "- q3 (Enxaguar): O estado de enxágue envolve a remoção do sabão e quaisquer resíduos de detergente das roupas, garantindo que elas fiquem livres de resíduos químicos após a lavagem.\n",
        "- q4 (Centrifugar): Durante a centrifugação, a máquina de lavar gira rapidamente para remover o excesso de água das roupas. Isso reduz o tempo de secagem e ajuda a economizar energia durante o processo. O estado q4 é um dos estados finais, indicando que o ciclo de lavagem foi concluído após a centrifugação.\n",
        "- q5 (Secar): No estado de secagem, as roupas são expostas a calor ou ar quente para remover a umidade restante dos tecidos. Isso é essencial para garantir que as roupas estejam completamente secas e prontas para uso após o ciclo de lavagem. O estado q5 é outro estado final, indicando que o ciclo de lavagem foi concluído após a secagem.\n",
        "<br>\n",
        "<br>\n",
        "\n",
        "**Alfabeto:**\n",
        "\n",
        "Σ = {'L', 'E', 'M', 'C', 'S'}\n",
        "\n",
        "- 'L': Lavar\n",
        "- 'E': Enxaguar\n",
        "- 'M': Molho\n",
        "- 'C': Centrifugar\n",
        "- 'S': Secar\n",
        "\n",
        "\n",
        "A linguagem representada pelo autômato é a sequência de ações que a máquina de lavar pode executar para realizar um ciclo completo de lavagem, determinado pela ordem das entradas e pelos estados alcançados durante o processo.\n",
        "<br>\n",
        "<br>\n",
        "\n",
        "**Linguagem:**\n",
        "podemos definir a linguagem L reconhecida pelo autômato através da expressão:\n",
        "\n",
        "L= { w ∈ Σ<sup style=\"font-size: smaller;\">*</sup> ∣ δ<sup style=\"font-size: smaller;\">*</sup>(q0,w) ∈ {q4, q5} }\n",
        "\n",
        "Onde:\n",
        "- w é uma sequência de símbolos do alfabeto.\n",
        "- Σ<sup style=\"font-size: smaller;\">*</sup> representa o conjunto de todas as sequências possíveis de símbolos do alfabeto.\n",
        "- δ<sup style=\"font-size: smaller;\">*</sup>(q0,w) denota a função de transição estendida, que indica o estado em que o autômato estaria após processar a sequência w a partir do estado inicial q0.\n",
        "- q0 é o estado inicial do autômato.\n",
        "- {q4, q5} é o conjunto de estados finais.\n",
        "<br>\n",
        "<br>\n",
        "\n",
        "Dá-se também pela expressão regular:\n",
        "\n",
        "L = { ( L | (M+L)+ | L(M+L)+ ) E+ C(S | ε) }\n",
        "\n",
        "considerando:\n",
        "- \"*\": zero ou mais aparições\n",
        "- \"+\": uma ou mais aparições\n",
        "- \"|\" : operador \"ou\"\n"
      ],
      "metadata": {
        "id": "_rqidCQtS78U"
      }
    },
    {
      "cell_type": "code",
      "source": [
        "Q = {'q0', 'q1', 'q2', 'q3', 'q4', 'q5'}\n",
        "sigma = {'L', 'E', 'M', 'C', 'S'}\n",
        "\n",
        "initial_state = 'q0'\n",
        "F = {'q4', 'q5'}"
      ],
      "metadata": {
        "id": "SpzNnVNH7x5E"
      },
      "execution_count": null,
      "outputs": []
    },
    {
      "cell_type": "markdown",
      "source": [
        "####Função de transição\n",
        "\n",
        "1. **('q0', 'M') -> 'q1' (Início para Molho)**: Esta transição indica o início do ciclo de lavagem com a função de molho, permitindo que a máquina de lavar avance do estado de início (q0) para o estado de molho (q1) quando recebe a entrada 'M'.\n",
        "\n",
        "2. **('q0', 'L') -> 'q2' (Início para Lavar)**: Similarmente, esta transição permite que a máquina de lavar inicie o ciclo de lavagem com a função de lavar, avançando do estado de início (q0) para o estado de lavagem (q2) quando recebe a entrada 'L'.\n",
        "\n",
        "3. **('q1', 'M') -> 'q1' (Molho para Molho)**: Durante o processo de molho, se a máquina de lavar receber outra entrada de molho ('M'), ela permanecerá no estado de molho (q1), permitindo que o molho continue por mais tempo, se necessário.\n",
        "\n",
        "4. **('q1', 'L') -> 'q2' (Molho para Lavar)**: Se durante o molho a máquina de lavar receber a entrada de lavagem ('L'), ela passará do estado de molho (q1) para o estado de lavagem (q2), indicando que o ciclo de molho foi interrompido e o ciclo de lavagem começou.\n",
        "\n",
        "5. **('q2', 'M') -> 'q1' (Lavar para Molho)**: Durante o ciclo de lavagem, se a máquina de lavar receber a entrada de molho ('M'), ela passará do estado de lavagem (q2) para o estado de molho (q1), permitindo que o ciclo de lavagem seja interrompido e a função de molho seja iniciada.\n",
        "\n",
        "6. **('q2', 'E') -> 'q3' (Lavar para Enxaguar)**: Após a fase de lavagem, a máquina de lavar avançará para o estado de enxágue (q3) quando receber a entrada de enxágue ('E'), preparando as roupas para a próxima etapa do ciclo de lavagem.\n",
        "\n",
        "7. **('q3', 'E') -> 'q3' (Enxaguar para Enxaguar)**: Durante o processo de enxágue, se a máquina de lavar receber outra entrada de enxágue ('E'), ela permanecerá no estado de enxágue (q3), permitindo que o enxágue continue conforme necessário.\n",
        "\n",
        "8. **('q3', 'C') -> 'q4' (Enxaguar para Centrifugar)**: Após o enxágue, a máquina de lavar avançará para o estado de centrifugação (q4) quando receber a entrada de centrifugação ('C'), preparando as roupas para a etapa de secagem.\n",
        "\n",
        "9. **('q4', 'S') -> 'q5' (Centrifugar para Secar)**: Durante o processo de centrifugação, a máquina de lavar avançará para o estado de secagem (q5) quando receber a entrada de secagem ('S'), iniciando o processo de secagem das roupas."
      ],
      "metadata": {
        "id": "XiHCi2mwTgQ1"
      }
    },
    {
      "cell_type": "code",
      "source": [
        "Q = {'q0', 'q1', 'q2', 'q3', 'q4', 'q5'}\n",
        "sigma = {'L', 'E', 'M', 'C', 'S'}\n",
        "\n",
        "initial_state = 'q0'\n",
        "F = {'q4', 'q5'}\n",
        "\n",
        "delta = { 'q0' : {'L' : 'q2', 'M' : 'q1'},\n",
        "          'q1' : {'L' : 'q2',  'M' : 'q1'},\n",
        "          'q2' : {'E' : 'q3', 'M' : 'q1'},\n",
        "          'q3' : {'E' : 'q3', 'C' : 'q4', },\n",
        "          'q4' : {'S' : 'q5'}\n",
        "        }"
      ],
      "metadata": {
        "id": "642iegWtbOqm"
      },
      "execution_count": null,
      "outputs": []
    },
    {
      "cell_type": "markdown",
      "source": [
        "###**Instalando a biblioteca Automathon**"
      ],
      "metadata": {
        "id": "AqsqrV4fvJ_u"
      }
    },
    {
      "cell_type": "code",
      "source": [
        "!pip install automathon --upgrade"
      ],
      "metadata": {
        "colab": {
          "base_uri": "https://localhost:8080/"
        },
        "id": "egb_KUSlvP2A",
        "outputId": "94b53ecd-096c-4a36-9f51-020353bc32a8"
      },
      "execution_count": null,
      "outputs": [
        {
          "output_type": "stream",
          "name": "stdout",
          "text": [
            "Collecting automathon\n",
            "  Downloading automathon-0.0.15-py3-none-any.whl (13 kB)\n",
            "Collecting graphviz==0.16 (from automathon)\n",
            "  Downloading graphviz-0.16-py2.py3-none-any.whl (19 kB)\n",
            "Installing collected packages: graphviz, automathon\n",
            "  Attempting uninstall: graphviz\n",
            "    Found existing installation: graphviz 0.20.3\n",
            "    Uninstalling graphviz-0.20.3:\n",
            "      Successfully uninstalled graphviz-0.20.3\n",
            "Successfully installed automathon-0.0.15 graphviz-0.16\n"
          ]
        }
      ]
    },
    {
      "cell_type": "markdown",
      "source": [
        "**Definição das variáveis do Automato para a biblioteca Automathon**"
      ],
      "metadata": {
        "id": "spJz14qeveW_"
      }
    },
    {
      "cell_type": "code",
      "source": [
        "# from automathon import NFA\n",
        "\n",
        "# automata = NFA(q, sigma, delta, initial_state, f)"
      ],
      "metadata": {
        "id": "yHARwnqzvoft"
      },
      "execution_count": null,
      "outputs": []
    },
    {
      "cell_type": "code",
      "source": [
        "from automathon import DFA\n",
        "\n",
        "automata = DFA(Q, sigma, delta, initial_state, F)"
      ],
      "metadata": {
        "id": "WmsUnNcCiqOs"
      },
      "execution_count": null,
      "outputs": []
    },
    {
      "cell_type": "code",
      "source": [
        "automata.is_valid()"
      ],
      "metadata": {
        "colab": {
          "base_uri": "https://localhost:8080/"
        },
        "id": "DqM6-tTgy0rM",
        "outputId": "6c78cc45-2846-4971-996a-5d18ca2fe490"
      },
      "execution_count": null,
      "outputs": [
        {
          "output_type": "execute_result",
          "data": {
            "text/plain": [
              "True"
            ]
          },
          "metadata": {},
          "execution_count": 6
        }
      ]
    },
    {
      "cell_type": "code",
      "source": [
        "print(automata.accept(\"LECS\"))\n",
        "print(automata.accept(\"MLEEC\"))\n",
        "print(automata.accept(\"LMLMMLEC\"))\n",
        "print(automata.accept(\"MEC\"))\n",
        "print(automata.accept(\"LM\"))\n"
      ],
      "metadata": {
        "colab": {
          "base_uri": "https://localhost:8080/"
        },
        "id": "tZ9hU2oYzOXW",
        "outputId": "2fda1a18-1263-47b3-e0b3-4e3136da24c4"
      },
      "execution_count": null,
      "outputs": [
        {
          "output_type": "stream",
          "name": "stdout",
          "text": [
            "True\n",
            "True\n",
            "True\n",
            "False\n",
            "False\n"
          ]
        }
      ]
    },
    {
      "cell_type": "markdown",
      "source": [
        "**visualizar automato**"
      ],
      "metadata": {
        "id": "RavWaOGfxjJL"
      }
    },
    {
      "cell_type": "code",
      "source": [
        "automata.view(\n",
        "    file_name=\"afd_maquina_de_lavar\",\n",
        "    node_attr={'fontsize': '20'},\n",
        "    edge_attr={'fontsize': '20pt'}\n",
        ")\n"
      ],
      "metadata": {
        "id": "5cDtLXepS3-N"
      },
      "execution_count": null,
      "outputs": []
    },
    {
      "cell_type": "markdown",
      "source": [
        "![image.png](data:image/png;base64,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)"
      ],
      "metadata": {
        "id": "pACAyE8AwRlb"
      }
    },
    {
      "cell_type": "markdown",
      "source": [
        "**Referências:**\n",
        "\n",
        "https://github.com/rohaquinlop/automathon\n",
        "\n",
        "https://rohaquinlop.github.io/automathon/"
      ],
      "metadata": {
        "id": "KTYET5osAftd"
      }
    }
  ]
}